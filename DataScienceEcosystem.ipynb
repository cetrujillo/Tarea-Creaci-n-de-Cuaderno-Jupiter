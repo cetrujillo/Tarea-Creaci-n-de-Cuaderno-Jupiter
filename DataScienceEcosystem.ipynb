{
 "cells": [
  {
   "cell_type": "markdown",
   "id": "b9eae603-b247-4bc6-9d33-3c17cff3b3c5",
   "metadata": {},
   "source": [
    "# Data Science Tools and Ecosystem"
   ]
  },
  {
   "cell_type": "markdown",
   "id": "ebf9e4e6-3270-4ee4-9000-2dee10aed76f",
   "metadata": {},
   "source": [
    "In this notebook, Data Science Tools and Ecosystem are summarized."
   ]
  },
  {
   "cell_type": "markdown",
   "id": "7982fec9-e93e-419f-ba6c-2cd0258ef7a3",
   "metadata": {
    "tags": []
   },
   "source": [
    "Some of the popular languages that Data Scientists use are:\n",
    "\n",
    "1. PYTHON\n",
    "2. R\n",
    "3. SQL"
   ]
  },
  {
   "cell_type": "markdown",
   "id": "474322df-0c33-40ca-9188-d814cbb13828",
   "metadata": {},
   "source": [
    "#### Some of the commonly used libraries used by Data Scientists include:\n",
    "\n",
    "* Pandas\n",
    "* Numpy\n",
    "* Matplotlib\n",
    "* TensorFlow"
   ]
  },
  {
   "cell_type": "markdown",
   "id": "1c6c8574-db18-4586-8efa-56962e7bb700",
   "metadata": {},
   "source": [
    "### Data Science Tools\n",
    "\n",
    "| Data Science Tools |\n",
    "|:------------------ |\n",
    "|Jupiter Notebook    |\n",
    "|RStudio             |\n",
    "|Visual Studio Code  |"
   ]
  },
  {
   "cell_type": "markdown",
   "id": "0b9867c8-8610-4e6c-b3c6-b5fd13d02984",
   "metadata": {
    "tags": []
   },
   "source": [
    "### Below are a few examples of evaluating arithmetic expressions in Python\n",
    "\n",
    "- '5 + 3' → Addition (Result: 8)\n",
    "- '10 - 4' → Subtraction (Result: 6)\n",
    "- '6 * 7' → Multiplication (Result: 42)\n",
    "- '20 / 5' → Division (Result: 4)\n",
    "- '2 ** 3' → Exponentiation (2 raised to the power of 3, Result: 8)\n",
    "- '15 % 4' → Modulo (Remainder of 15 divided by 4, Result: 3)"
   ]
  },
  {
   "cell_type": "code",
   "execution_count": 21,
   "id": "c7a48354-4c08-45ff-ae56-23c8ee3be3b7",
   "metadata": {
    "tags": []
   },
   "outputs": [
    {
     "name": "stdout",
     "output_type": "stream",
     "text": [
      "17\n",
      "17\n"
     ]
    }
   ],
   "source": [
    "#  This a simple arithmetic expression to mutiply then add integers\n",
    "\n",
    "a=3\n",
    "b=4\n",
    "c=5\n",
    "\n",
    "z=(a*b)+c\n",
    "\n",
    "#Comprobación\n",
    "(3*4)+5\n",
    "\n",
    "print(z)\n",
    "print((3*4)+5)\n"
   ]
  },
  {
   "cell_type": "code",
   "execution_count": 29,
   "id": "c07cda03-0bfd-4359-8034-3d8a9c2c5058",
   "metadata": {
    "tags": []
   },
   "outputs": [
    {
     "name": "stdout",
     "output_type": "stream",
     "text": [
      "3.3333333333333335\n"
     ]
    }
   ],
   "source": [
    "# This will convert 200 minutes to hours by diving by 60\n",
    "\n",
    "a=200\n",
    "b=60\n",
    "\n",
    "Horas=(a/b)  #La conversión seria (200 minutos/1hora)*(1 hora/60 minutos)\n",
    "\n",
    "print(Horas)\n"
   ]
  },
  {
   "cell_type": "markdown",
   "id": "e1c4da0f-2567-4df1-a31b-b48b4d6efc6d",
   "metadata": {},
   "source": [
    "**Objectives:**\n",
    "\n",
    "- List popular languages for Data Science  \n",
    "- Identify commonly used Data Science libraries  \n",
    "- Describe popular Data Science development tools  \n",
    "- Demonstrate examples of arithmetic expressions in Python  \n",
    "- Convert units (e.g., minutes to hours) using simple formulas"
   ]
  },
  {
   "cell_type": "code",
   "execution_count": 6,
   "id": "8d9907db-b29d-4459-97ec-85e458fc0a7e",
   "metadata": {
    "scrolled": true
   },
   "outputs": [
    {
     "name": "stdout",
     "output_type": "stream",
     "text": [
      "Lista de Objetivos\n",
      "- List popular languages for Data Science\n",
      "- Identify commonly used Data Science libraries \n",
      "- Describe popular Data Science development tools \n",
      "- Demonstrate examples of arithmetic expressions in Python \n",
      "- Convert units (e.g., minutes to hours) using simple formulas\n"
     ]
    }
   ],
   "source": [
    "#Celda de codigo para listar objetivos\n",
    "\n",
    "objetivos =[\"List popular languages for Data Science\",\"Identify commonly used Data Science libraries \",\"Describe popular Data Science development tools \", \"Demonstrate examples of arithmetic expressions in Python \",\"Convert units (e.g., minutes to hours) using simple formulas\"]\n",
    "\n",
    "print(\"Lista de Objetivos\")\n",
    "for objetivo in objetivos:\n",
    "    print(\"-\",objetivo)\n",
    "    "
   ]
  },
  {
   "cell_type": "markdown",
   "id": "907f55c9-7a3c-4993-a410-49ebfa1ed42d",
   "metadata": {},
   "source": [
    "## *AUTOR:*\n",
    "### **Carlos Eduardo Trujillo Devia.**\n"
   ]
  }
 ],
 "metadata": {
  "kernelspec": {
   "display_name": "Python 3 (ipykernel)",
   "language": "python",
   "name": "python3"
  },
  "language_info": {
   "codemirror_mode": {
    "name": "ipython",
    "version": 3
   },
   "file_extension": ".py",
   "mimetype": "text/x-python",
   "name": "python",
   "nbconvert_exporter": "python",
   "pygments_lexer": "ipython3",
   "version": "3.11.7"
  }
 },
 "nbformat": 4,
 "nbformat_minor": 5
}
